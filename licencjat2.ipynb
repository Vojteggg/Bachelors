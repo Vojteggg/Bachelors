{
 "cells": [
  {
   "cell_type": "code",
   "id": "initial_id",
   "metadata": {
    "collapsed": true,
    "jupyter": {
     "is_executing": true
    }
   },
   "source": [
    "import numpy as np\n",
    "import pandas as pd\n",
    "import matplotlib.pyplot as plt\n",
    "%matplotlib inline\n",
    "\n",
    "# Preprocessing\n",
    "from sklearn.preprocessing import LabelEncoder, StandardScaler\n",
    "from sklearn.model_selection import train_test_split, cross_val_score, GridSearchCV, StratifiedKFold\n",
    "import ydata_profiling as pp\n",
    "\n",
    "# Modele\n",
    "from sklearn.linear_model import LinearRegression, SGDRegressor, RidgeCV\n",
    "from sklearn.svm import SVR, LinearSVR\n",
    "from sklearn.ensemble import RandomForestRegressor, GradientBoostingRegressor, ExtraTreesRegressor \n",
    "from sklearn.ensemble import BaggingRegressor, AdaBoostRegressor, VotingRegressor \n",
    "from sklearn.neural_network import MLPRegressor\n",
    "from sklearn import linear_model\n",
    "from sklearn.tree import DecisionTreeRegressor\n",
    "from mlxtend.feature_selection import SequentialFeatureSelector\n",
    "   \n",
    "from sklearn.linear_model import Lasso\n",
    " \n",
    "from sklearn.preprocessing import PolynomialFeatures\n",
    "import sklearn.model_selection\n",
    "from sklearn.model_selection import cross_val_predict as cvp\n",
    "from sklearn import metrics\n",
    "from sklearn.metrics import r2_score, mean_absolute_error, mean_squared_error\n",
    "import xgboost as xgb\n",
    "import lightgbm as lgb\n",
    "import seaborn as sns\n",
    "\n",
    "# Optymalizacja modeli\n",
    "from hyperopt import STATUS_OK, Trials, fmin, hp, tpe, space_eval\n",
    "\n",
    "import warnings\n",
    "warnings.filterwarnings(\"ignore\")"
   ],
   "outputs": [],
   "execution_count": null
  },
  {
   "metadata": {
    "jupyter": {
     "is_executing": true
    }
   },
   "cell_type": "code",
   "source": [
    "valid_part = 0.3\n",
    "train0 = pd.read_csv('vehicles.csv')\n",
    "train0.head(50)"
   ],
   "id": "bc4cdfbeead37a41",
   "outputs": [],
   "execution_count": null
  },
  {
   "metadata": {
    "jupyter": {
     "is_executing": true
    }
   },
   "cell_type": "code",
   "source": [
    "drop_columns = ['url', 'region_url', 'region', 'manufacturer', 'model', 'lat', 'long', 'posting_date', 'state', 'county', 'size', 'description', 'title_status', 'VIN', 'image_url']\n",
    "train0 = train0.drop(columns = drop_columns)\n",
    "train0.info()"
   ],
   "id": "6c25bca6542119c6",
   "outputs": [],
   "execution_count": null
  },
  {
   "metadata": {
    "jupyter": {
     "is_executing": true
    }
   },
   "cell_type": "code",
   "source": "train0.info()",
   "id": "d6e5c2fcdbe2b406",
   "outputs": [],
   "execution_count": null
  },
  {
   "metadata": {
    "jupyter": {
     "is_executing": true
    }
   },
   "cell_type": "code",
   "source": [
    "# Create a DataFrame summarizing df.info()\n",
    "info_df = pd.DataFrame({\n",
    "    \"Column\": train0.columns,\n",
    "    \"Non-Null Count\": train0.notnull().sum(),\n",
    "    \"Dtype\": train0.dtypes\n",
    "}).reset_index(drop=True)\n",
    "\n",
    "\n",
    "fig, ax = plt.subplots(figsize=(10, 5))  # Set appropriate size based on your DataFrame\n",
    "ax.axis('tight')\n",
    "ax.axis('off')\n",
    "ax.table(cellText=info_df.values, colLabels=info_df.columns, cellLoc = 'center', loc='center')\n",
    "\n",
    "plt.show()"
   ],
   "id": "2bc8521c9f750125",
   "outputs": [],
   "execution_count": null
  },
  {
   "metadata": {
    "jupyter": {
     "is_executing": true
    }
   },
   "cell_type": "code",
   "source": [
    "train0 = train0.dropna()\n",
    "train0.head(5)\n",
    "train0.info()"
   ],
   "id": "4a1226938f383c43",
   "outputs": [],
   "execution_count": null
  },
  {
   "metadata": {
    "jupyter": {
     "is_executing": true
    }
   },
   "cell_type": "code",
   "source": "train0['drive'].unique()",
   "id": "fec2c4d50cbbf39f",
   "outputs": [],
   "execution_count": null
  },
  {
   "metadata": {
    "jupyter": {
     "is_executing": true
    }
   },
   "cell_type": "code",
   "source": [
    "numerics = ['int8', 'int16', 'int32', 'int64', 'float16', 'float32', 'float64']\n",
    "categorical_columns = []\n",
    "features = train0.columns.values.tolist()\n",
    "for col in features:\n",
    "    if train0[col].dtype in numerics: continue\n",
    "    categorical_columns.append(col)\n",
    "\n",
    "for col in categorical_columns:\n",
    "    if col in train0.columns:\n",
    "        le = LabelEncoder()\n",
    "        le.fit(list(train0[col].astype(str).values))\n",
    "        train0[col] = le.transform(list(train0[col].astype(str).values))"
   ],
   "id": "4fc28a7c51069787",
   "outputs": [],
   "execution_count": null
  },
  {
   "metadata": {
    "jupyter": {
     "is_executing": true
    }
   },
   "cell_type": "code",
   "source": [
    "train0['drive'].unique()\n",
    "train0.head(10)\n",
    "train0.info()"
   ],
   "id": "4891bcd593697d5f",
   "outputs": [],
   "execution_count": null
  },
  {
   "metadata": {
    "jupyter": {
     "is_executing": true
    }
   },
   "cell_type": "code",
   "source": [
    "train0['year'] = (train0['year']-1900).astype(int)\n",
    "train0['odometer'] = train0['odometer'].astype(int)\n",
    "train0.head(10)"
   ],
   "id": "fe1c5fbee08f6221",
   "outputs": [],
   "execution_count": null
  },
  {
   "metadata": {
    "jupyter": {
     "is_executing": true
    }
   },
   "cell_type": "code",
   "source": "train0.info()",
   "id": "eb1e599669abc103",
   "outputs": [],
   "execution_count": null
  },
  {
   "metadata": {
    "jupyter": {
     "is_executing": true
    }
   },
   "cell_type": "code",
   "source": "train0['price'].value_counts()",
   "id": "1dec8dd8f6e3940f",
   "outputs": [],
   "execution_count": null
  },
  {
   "metadata": {
    "jupyter": {
     "is_executing": true
    }
   },
   "cell_type": "code",
   "source": [
    "train0 = train0[train0['price'] > 1000]\n",
    "train0 = train0[train0['price'] < 40000]\n",
    "train0['odometer'] = train0['odometer'] // 5000\n",
    "train0 = train0[train0['year'] > 110]"
   ],
   "id": "6485e3e428c29a8c",
   "outputs": [],
   "execution_count": null
  },
  {
   "metadata": {
    "jupyter": {
     "is_executing": true
    }
   },
   "cell_type": "code",
   "source": "train0.corr()",
   "id": "7a7b79d14eaaea86",
   "outputs": [],
   "execution_count": null
  },
  {
   "metadata": {
    "jupyter": {
     "is_executing": true
    }
   },
   "cell_type": "code",
   "source": "train0.describe()",
   "id": "248d7c2dcd09b7ca",
   "outputs": [],
   "execution_count": null
  },
  {
   "metadata": {
    "jupyter": {
     "is_executing": true
    }
   },
   "cell_type": "code",
   "source": [
    "plt.figure(figsize=(10, 6))\n",
    "sns.histplot(train0['price'], bins=30, kde=True)\n",
    "plt.title('Rozkład cen samochodów i ich częstotliwości')\n",
    "plt.xlabel('Cena (1000-40000)')\n",
    "plt.ylabel('Częstotliwość')\n",
    "plt.show()\n",
    "\n",
    "plt.figure(figsize=(10, 6))\n",
    "sns.histplot(train0['price'], bins=30, kde=True, log_scale=(False, True))  # False for x-axis, True for y-axis\n",
    "plt.title('Log-Scaled Distribution of Vehicle Prices')\n",
    "plt.xlabel('Price')\n",
    "plt.ylabel('Log-Frequency')\n",
    "plt.show()\n",
    "\n",
    "\n",
    "# Boxplot of vehicle year\n",
    "plt.figure(figsize=(10, 6))\n",
    "sns.boxplot(x=train0['year'])\n",
    "plt.title('Boxplot of Vehicle Years')\n",
    "plt.xlabel('Year')\n",
    "plt.show()\n",
    "\n",
    "# Scatter plot of price vs odometer\n",
    "plt.figure(figsize=(10, 6))\n",
    "sns.scatterplot(x='odometer', y='price', data=train0)\n",
    "plt.title('Price vs. Odometer Readings')\n",
    "plt.xlabel('Odometer')\n",
    "plt.ylabel('Price')\n",
    "plt.show()\n",
    "\n",
    "# Correlation heatmap\n",
    "plt.figure(figsize=(10, 8))\n",
    "sns.heatmap(train0[['price', 'year', 'odometer']].corr(), annot=True, fmt=\".2f\", cmap='coolwarm', linewidths=.5, cbar_kws={\"shrink\": .8})\n",
    "plt.title('Correlation Heatmap')\n",
    "plt.show()"
   ],
   "id": "90a255d5c783e65e",
   "outputs": [],
   "execution_count": null
  },
  {
   "metadata": {
    "jupyter": {
     "is_executing": true
    }
   },
   "cell_type": "code",
   "source": "pp.ProfileReport(train0)",
   "id": "a1aedd347edaa376",
   "outputs": [],
   "execution_count": null
  },
  {
   "metadata": {
    "jupyter": {
     "is_executing": true
    }
   },
   "cell_type": "code",
   "source": [
    "target_name = 'price'\n",
    "train_target0 = train0[target_name]\n",
    "train0 = train0.drop([target_name], axis=1)"
   ],
   "id": "df4f5c577bce1cfc",
   "outputs": [],
   "execution_count": null
  },
  {
   "metadata": {
    "jupyter": {
     "is_executing": true
    }
   },
   "cell_type": "code",
   "source": "train0, test0, train_target0, test_target0 = train_test_split(train0, train_target0, test_size=0.2, random_state=0)",
   "id": "a7bc40ff3f97534c",
   "outputs": [],
   "execution_count": null
  },
  {
   "metadata": {
    "jupyter": {
     "is_executing": true
    }
   },
   "cell_type": "code",
   "source": [
    "train0b = train0\n",
    "train_target0b = train_target0\n",
    "trainb, testb, targetb, target_testb = train_test_split(train0b, train_target0b, test_size=valid_part, random_state=0)"
   ],
   "id": "503212ff1bac2d02",
   "outputs": [],
   "execution_count": null
  },
  {
   "metadata": {
    "jupyter": {
     "is_executing": true
    }
   },
   "cell_type": "code",
   "source": [
    "scaler = StandardScaler()\n",
    "train0 = pd.DataFrame(scaler.fit_transform(train0), columns = train0.columns)"
   ],
   "id": "a158c995709d9522",
   "outputs": [],
   "execution_count": null
  },
  {
   "metadata": {
    "jupyter": {
     "is_executing": true
    }
   },
   "cell_type": "code",
   "source": "train0.head(3)",
   "id": "65e2b1a6072b01bc",
   "outputs": [],
   "execution_count": null
  },
  {
   "metadata": {
    "jupyter": {
     "is_executing": true
    }
   },
   "cell_type": "code",
   "source": "len(train0)",
   "id": "888a29237e6e2559",
   "outputs": [],
   "execution_count": null
  },
  {
   "metadata": {
    "jupyter": {
     "is_executing": true
    }
   },
   "cell_type": "code",
   "source": "train, test, target, target_test = train_test_split(train0, train_target0, test_size=valid_part, random_state=0)",
   "id": "fe75cc59554dc5b4",
   "outputs": [],
   "execution_count": null
  },
  {
   "metadata": {
    "jupyter": {
     "is_executing": true
    }
   },
   "cell_type": "code",
   "source": [
    "acc_train_r2 = []\n",
    "acc_test_r2 = []\n",
    "acc_train_d = []\n",
    "acc_test_d = []\n",
    "acc_train_rmse = []\n",
    "acc_test_rmse = []"
   ],
   "id": "2f0ebaaebc679f4d",
   "outputs": [],
   "execution_count": null
  },
  {
   "metadata": {
    "jupyter": {
     "is_executing": true
    }
   },
   "cell_type": "code",
   "source": [
    "def acc_d(y_meas, y_pred):\n",
    "    return mean_absolute_error(y_meas, y_pred)*len(y_meas)/sum(abs(y_meas))\n",
    "\n",
    "def acc_rmse(y_meas, y_pred):\n",
    "    return (mean_squared_error(y_meas, y_pred))**0.5"
   ],
   "id": "254452186c95a30c",
   "outputs": [],
   "execution_count": null
  },
  {
   "metadata": {
    "jupyter": {
     "is_executing": true
    }
   },
   "cell_type": "code",
   "source": [
    "def acc_boosting_model(num,model,train,test,num_iteration=0):\n",
    "    \n",
    "    global acc_train_r2, acc_test_r2, acc_train_d, acc_test_d, acc_train_rmse, acc_test_rmse\n",
    "    \n",
    "    if num_iteration > 0:\n",
    "        ytrain = model.predict(train, num_iteration = num_iteration)  \n",
    "        ytest = model.predict(test, num_iteration = num_iteration)\n",
    "    else:\n",
    "        ytrain = model.predict(train)  \n",
    "        ytest = model.predict(test)\n",
    "\n",
    "    print('target = ', targetb[:5].values)\n",
    "    print('ytrain = ', ytrain[:5])\n",
    "\n",
    "    acc_train_r2_num = round(r2_score(targetb, ytrain) * 100, 2)\n",
    "    print('acc(r2_score) dla train =', acc_train_r2_num)   \n",
    "    acc_train_r2.insert(num, acc_train_r2_num)\n",
    "\n",
    "    acc_train_d_num = round(acc_d(targetb, ytrain) * 100, 2)\n",
    "    print('acc(relative error) dla train =', acc_train_d_num)   \n",
    "    acc_train_d.insert(num, acc_train_d_num)\n",
    "\n",
    "    acc_train_rmse_num = round(acc_rmse(targetb, ytrain) * 100, 2)\n",
    "    print('acc(rmse) dla train =', acc_train_rmse_num)   \n",
    "    acc_train_rmse.insert(num, acc_train_rmse_num)\n",
    "\n",
    "    print('target_test =', target_testb[:5].values)\n",
    "    print('ytest =', ytest[:5])\n",
    "    \n",
    "    acc_test_r2_num = round(r2_score(target_testb, ytest) * 100, 2)\n",
    "    print('acc(r2_score) dla test =', acc_test_r2_num)\n",
    "    acc_test_r2.insert(num, acc_test_r2_num)\n",
    "    \n",
    "    acc_test_d_num = round(acc_d(target_testb, ytest) * 100, 2)\n",
    "    print('acc(relative error) dla test =', acc_test_d_num)\n",
    "    acc_test_d.insert(num, acc_test_d_num)\n",
    "    \n",
    "    acc_test_rmse_num = round(acc_rmse(target_testb, ytest) * 100, 2)\n",
    "    print('acc(rmse) dla test =', acc_test_rmse_num)\n",
    "    acc_test_rmse.insert(num, acc_test_rmse_num)"
   ],
   "id": "79b84912c3bc8adb",
   "outputs": [],
   "execution_count": null
  },
  {
   "metadata": {
    "jupyter": {
     "is_executing": true
    }
   },
   "cell_type": "code",
   "source": [
    "def acc_model(num,model,train,test):\n",
    "\n",
    "    global acc_train_r2, acc_test_r2, acc_train_d, acc_test_d, acc_train_rmse, acc_test_rmse\n",
    "    \n",
    "    ytrain = model.predict(train)  \n",
    "    ytest = model.predict(test)\n",
    "\n",
    "    print('target = ', target[:5].values)\n",
    "    print('ytrain = ', ytrain[:5])\n",
    "\n",
    "    acc_train_r2_num = round(r2_score(target, ytrain) * 100, 2)\n",
    "    print('acc(r2_score) dla train =', acc_train_r2_num)   \n",
    "    acc_train_r2.insert(num, acc_train_r2_num)\n",
    "\n",
    "    acc_train_d_num = round(acc_d(target, ytrain) * 100, 2)\n",
    "    print('acc(relative error) dla train =', acc_train_d_num)   \n",
    "    acc_train_d.insert(num, acc_train_d_num)\n",
    "\n",
    "    acc_train_rmse_num = round(acc_rmse(target, ytrain) * 100, 2)\n",
    "    print('acc(rmse) dla train =', acc_train_rmse_num)   \n",
    "    acc_train_rmse.insert(num, acc_train_rmse_num)\n",
    "\n",
    "    print('target_test =', target_test[:5].values)\n",
    "    print('ytest =', ytest[:5])\n",
    "    \n",
    "    acc_test_r2_num = round(r2_score(target_test, ytest) * 100, 2)\n",
    "    print('acc(r2_score) dla test =', acc_test_r2_num)\n",
    "    acc_test_r2.insert(num, acc_test_r2_num)\n",
    "    \n",
    "    acc_test_d_num = round(acc_d(target_test, ytest) * 100, 2)\n",
    "    print('acc(relative error) dla test =', acc_test_d_num)\n",
    "    acc_test_d.insert(num, acc_test_d_num)\n",
    "    \n",
    "    acc_test_rmse_num = round(acc_rmse(target_test, ytest) * 100, 2)\n",
    "    print('acc(rmse) dla test =', acc_test_rmse_num)\n",
    "    acc_test_rmse.insert(num, acc_test_rmse_num)"
   ],
   "id": "7c161979d5acc331",
   "outputs": [],
   "execution_count": null
  },
  {
   "metadata": {},
   "cell_type": "markdown",
   "source": "## MODELE",
   "id": "56b62224506dab01"
  },
  {
   "metadata": {
    "jupyter": {
     "is_executing": true
    }
   },
   "cell_type": "code",
   "source": [
    "linreg = LinearRegression()\n",
    "linreg.fit(train, target)\n",
    "acc_model(0,linreg,train,test)"
   ],
   "id": "378eac836705f80f",
   "outputs": [],
   "execution_count": null
  },
  {
   "metadata": {
    "jupyter": {
     "is_executing": true
    }
   },
   "cell_type": "code",
   "source": [
    "lasso = Lasso(alpha=0.1)\n",
    "lasso.fit(train, target)\n",
    "acc_model(1,lasso,train,test)"
   ],
   "id": "b9acd5f5a391dc20",
   "outputs": [],
   "execution_count": null
  },
  {
   "metadata": {
    "jupyter": {
     "is_executing": true
    }
   },
   "cell_type": "code",
   "source": [
    "svr = SVR()\n",
    "svr.fit(train, target)\n",
    "acc_model(2,svr,train,test)"
   ],
   "id": "52d6b32e07b7f165",
   "outputs": [],
   "execution_count": null
  },
  {
   "metadata": {
    "jupyter": {
     "is_executing": true
    }
   },
   "cell_type": "code",
   "source": [
    "linear_svr = LinearSVR()\n",
    "linear_svr.fit(train, target)\n",
    "acc_model(3,linear_svr,train,test)"
   ],
   "id": "379a0de6617fa55a",
   "outputs": [],
   "execution_count": null
  },
  {
   "metadata": {
    "jupyter": {
     "is_executing": true
    }
   },
   "cell_type": "code",
   "source": [
    "mlp = MLPRegressor()\n",
    "param_grid = {'hidden_layer_sizes': [i for i in range(2,20)],\n",
    "              'activation': ['relu'],\n",
    "              'solver': ['adam'],\n",
    "              'learning_rate': ['constant'],\n",
    "              'learning_rate_init': [0.01],\n",
    "              'power_t': [0.5],\n",
    "              'alpha': [0.0001],\n",
    "              'max_iter': [1000],\n",
    "              'early_stopping': [True],\n",
    "              'warm_start': [False]}\n",
    "mlp_GS = GridSearchCV(mlp, param_grid=param_grid, \n",
    "                   cv=10, verbose=True, pre_dispatch='2*n_jobs', n_jobs=-1)\n",
    "mlp_GS.fit(train, target)\n",
    "acc_model(4,mlp_GS,train,test)"
   ],
   "id": "92afc6e9512475b3",
   "outputs": [],
   "execution_count": null
  },
  {
   "metadata": {
    "jupyter": {
     "is_executing": true
    }
   },
   "cell_type": "code",
   "source": [
    "sgd = SGDRegressor()\n",
    "sgd.fit(train, target)\n",
    "acc_model(5,sgd,train,test)"
   ],
   "id": "d62fe5ba9d4a0e85",
   "outputs": [],
   "execution_count": null
  },
  {
   "metadata": {
    "jupyter": {
     "is_executing": true
    }
   },
   "cell_type": "code",
   "source": [
    "decision_tree = DecisionTreeRegressor()\n",
    "decision_tree.fit(train, target)\n",
    "acc_model(6,decision_tree,train,test)"
   ],
   "id": "e90c2d5134f3f33b",
   "outputs": [],
   "execution_count": null
  },
  {
   "metadata": {
    "jupyter": {
     "is_executing": true
    }
   },
   "cell_type": "code",
   "source": [
    "random_forest = RandomForestRegressor()\n",
    "random_forest.fit(train, target)\n",
    "acc_model(7,random_forest,train,test)"
   ],
   "id": "746a76ef7f418070",
   "outputs": [],
   "execution_count": null
  },
  {
   "metadata": {
    "jupyter": {
     "is_executing": true
    }
   },
   "cell_type": "code",
   "source": [
    "xgb_clf = xgb.XGBRegressor(objective='reg:squarederror')\n",
    "parameters = {'n_estimators': [60, 100, 120, 140], \n",
    "              'learning_rate': [0.01, 0.1],\n",
    "              'max_depth': [5, 7],\n",
    "              'reg_lambda': [0.5]}\n",
    "xgb_reg = GridSearchCV(estimator=xgb_clf, param_grid=parameters, cv=5, n_jobs=-1).fit(trainb, targetb)\n",
    "print(\"Best score: %0.3f\" % xgb_reg.best_score_)\n",
    "print(\"Best parameters set:\", xgb_reg.best_params_)\n",
    "acc_boosting_model(8,xgb_reg,trainb,testb)"
   ],
   "id": "2f65739379b0902",
   "outputs": [],
   "execution_count": null
  },
  {
   "metadata": {
    "jupyter": {
     "is_executing": true
    }
   },
   "cell_type": "code",
   "source": [
    "Xtrain, Xval, Ztrain, Zval = train_test_split(trainb, targetb, test_size=0.2, random_state=0)\n",
    "train_set = lgb.Dataset(Xtrain, Ztrain)\n",
    "valid_set = lgb.Dataset(Xval, Zval)"
   ],
   "id": "ca97bca40714e480",
   "outputs": [],
   "execution_count": null
  },
  {
   "metadata": {
    "jupyter": {
     "is_executing": true
    }
   },
   "cell_type": "code",
   "source": [
    "# params = {\n",
    "#         'boosting_type':'gbdt',\n",
    "#         'objective': 'regression',\n",
    "#         'num_leaves': 31,\n",
    "#         'learning_rate': 0.01,\n",
    "#         'max_depth': -1,\n",
    "#         'subsample': 0.8,\n",
    "#         'bagging_fraction' : 1,\n",
    "#         'max_bin' : 5000 ,\n",
    "#         'bagging_freq': 20,\n",
    "#         'colsample_bytree': 0.6,\n",
    "#         'metric': 'rmse',\n",
    "#         'min_split_gain': 0.5,\n",
    "#         'min_child_weight': 1,\n",
    "#         'min_child_samples': 10,\n",
    "#         'scale_pos_weight':1,\n",
    "#         'zero_as_missing': False,\n",
    "#         'seed':0,        \n",
    "#     }\n",
    "# modelL = lgb.train(params, train_set = train_set, num_boost_round=10000, valid_sets=valid_set)"
   ],
   "id": "31913985169673b1",
   "outputs": [],
   "execution_count": null
  },
  {
   "metadata": {
    "jupyter": {
     "is_executing": true
    }
   },
   "cell_type": "code",
   "source": "# acc_boosting_model(9,modelL,trainb,testb,modelL.best_iteration)",
   "id": "eb04c1a0ad4dd123",
   "outputs": [],
   "execution_count": null
  },
  {
   "metadata": {
    "jupyter": {
     "is_executing": true
    }
   },
   "cell_type": "code",
   "source": [
    "fig =  plt.figure(figsize = (5,5))\n",
    "axes = fig.add_subplot(111)\n",
    "lgb.plot_importance(modelL,ax = axes,height = 0.5)\n",
    "plt.show()\n",
    "plt.close()"
   ],
   "id": "1df733c0b1ea99e4",
   "outputs": [],
   "execution_count": null
  },
  {
   "metadata": {
    "jupyter": {
     "is_executing": true
    }
   },
   "cell_type": "code",
   "source": [
    "def hyperopt_gb_score(params):\n",
    "    clf = GradientBoostingRegressor(**params)\n",
    "    current_score = cross_val_score(clf, train, target, cv=10).mean()\n",
    "    print(current_score, params)\n",
    "    return current_score \n",
    " \n",
    "space_gb = {\n",
    "            'n_estimators': hp.choice('n_estimators', range(100, 1000)),\n",
    "            'max_depth': hp.choice('max_depth', np.arange(2, 10, dtype=int))            \n",
    "        }\n",
    " \n",
    "best = fmin(fn=hyperopt_gb_score, space=space_gb, algo=tpe.suggest, max_evals=10)\n",
    "print('best:')\n",
    "print(best)"
   ],
   "id": "bd03117f93db7847",
   "outputs": [],
   "execution_count": null
  },
  {
   "metadata": {
    "jupyter": {
     "is_executing": true
    }
   },
   "cell_type": "code",
   "source": [
    "params = space_eval(space_gb, best)\n",
    "params"
   ],
   "id": "d8958b27a0b6e8bb",
   "outputs": [],
   "execution_count": null
  },
  {
   "metadata": {
    "jupyter": {
     "is_executing": true
    }
   },
   "cell_type": "code",
   "source": [
    "gradient_boosting = GradientBoostingRegressor(**params)\n",
    "gradient_boosting.fit(train, target)\n",
    "acc_model(10,gradient_boosting,train,test)"
   ],
   "id": "356e5c7fba571740",
   "outputs": [],
   "execution_count": null
  },
  {
   "metadata": {
    "jupyter": {
     "is_executing": true
    }
   },
   "cell_type": "code",
   "source": [
    "ridge = RidgeCV(cv=5)\n",
    "ridge.fit(train, target)\n",
    "acc_model(11,ridge,train,test)"
   ],
   "id": "ce81dd95f283e7b0",
   "outputs": [],
   "execution_count": null
  },
  {
   "metadata": {
    "jupyter": {
     "is_executing": true
    }
   },
   "cell_type": "code",
   "source": [
    "bagging = BaggingRegressor()\n",
    "bagging.fit(train, target)\n",
    "acc_model(12,bagging,train,test)"
   ],
   "id": "a311c1f16d8283ab",
   "outputs": [],
   "execution_count": null
  },
  {
   "metadata": {
    "jupyter": {
     "is_executing": true
    }
   },
   "cell_type": "code",
   "source": [
    "etr = ExtraTreesRegressor()\n",
    "etr.fit(train, target)\n",
    "acc_model(13,etr,train,test)"
   ],
   "id": "594f2269085ad774",
   "outputs": [],
   "execution_count": null
  },
  {
   "metadata": {
    "jupyter": {
     "is_executing": true
    }
   },
   "cell_type": "code",
   "source": [
    "Ada_Boost = AdaBoostRegressor()\n",
    "Ada_Boost.fit(train, target)\n",
    "acc_model(14,Ada_Boost,train,test)"
   ],
   "id": "dece280aa38ad4ee",
   "outputs": [],
   "execution_count": null
  },
  {
   "metadata": {
    "jupyter": {
     "is_executing": true
    }
   },
   "cell_type": "code",
   "source": [
    "Voting_Reg = VotingRegressor(estimators=[('lin', linreg), ('ridge', ridge), ('sgd', sgd)])\n",
    "Voting_Reg.fit(train, target)\n",
    "acc_model(15,Voting_Reg,train,test)"
   ],
   "id": "b3bcf55d4d673e6b",
   "outputs": [],
   "execution_count": null
  },
  {
   "metadata": {
    "jupyter": {
     "is_executing": true
    }
   },
   "cell_type": "code",
   "source": [
    "from sklearn.linear_model import ElasticNet\n",
    "elastic = ElasticNet(alpha=0.1, l1_ratio=0.5)\n",
    "elastic.fit(train, target)\n",
    "acc_model(16,elastic,train,test)"
   ],
   "id": "280ee68b35da6653",
   "outputs": [],
   "execution_count": null
  },
  {
   "metadata": {},
   "cell_type": "markdown",
   "source": "## POROWNANIE",
   "id": "12b79d1debfce075"
  },
  {
   "metadata": {
    "jupyter": {
     "is_executing": true
    }
   },
   "cell_type": "code",
   "source": [
    "models = pd.DataFrame({\n",
    "    'Model': ['Linear Regression', 'Lasso', 'Support Vector Machines', 'Linear SVR', \n",
    "              'MLPRegressor', 'Stochastic Gradient Decent', \n",
    "              'Decision Tree Regressor', 'Random Forest',  'XGB', 'LGBM',\n",
    "              'GradientBoostingRegressor', 'RidgeRegressor', 'BaggingRegressor', 'ExtraTreesRegressor', \n",
    "              'AdaBoostRegressor', 'VotingRegressor', 'ElasticNet'],\n",
    "    \n",
    "    'r2_train': acc_train_r2,\n",
    "    'r2_test': acc_test_r2,\n",
    "    'd_train': acc_train_d,\n",
    "    'd_test': acc_test_d,\n",
    "    'rmse_train': acc_train_rmse,\n",
    "    'rmse_test': acc_test_rmse\n",
    "                     })"
   ],
   "id": "b7d164b406902b23",
   "outputs": [],
   "execution_count": null
  },
  {
   "metadata": {
    "jupyter": {
     "is_executing": true
    }
   },
   "cell_type": "code",
   "source": "pd.options.display.float_format = '{:,.2f}'.format",
   "id": "df2a3ab7646bbf13",
   "outputs": [],
   "execution_count": null
  },
  {
   "metadata": {
    "jupyter": {
     "is_executing": true
    }
   },
   "cell_type": "code",
   "source": [
    "print('Dokladnosc przewidywania R2 - r2_test')\n",
    "models.sort_values(by=['r2_test', 'r2_train'], ascending=False)"
   ],
   "id": "60c97797de764e70",
   "outputs": [],
   "execution_count": null
  },
  {
   "metadata": {
    "jupyter": {
     "is_executing": true
    }
   },
   "cell_type": "code",
   "source": [
    "print('Dokladnosc przewidywania relative error - d_test')\n",
    "models.sort_values(by=['d_test', 'd_train'], ascending=True)"
   ],
   "id": "6bdfcbee41d9478c",
   "outputs": [],
   "execution_count": null
  },
  {
   "metadata": {
    "jupyter": {
     "is_executing": true
    }
   },
   "cell_type": "code",
   "source": [
    "print('Dokladnosc przewidowyania RMSE - rmse_test')\n",
    "models.sort_values(by=['rmse_test', 'rmse_train'], ascending=True)"
   ],
   "id": "d14a27b08d6bc539",
   "outputs": [],
   "execution_count": null
  },
  {
   "metadata": {
    "jupyter": {
     "is_executing": true
    }
   },
   "cell_type": "code",
   "source": [
    "plt.figure(figsize=[25,6])\n",
    "xx = models['Model']\n",
    "plt.tick_params(labelsize=14)\n",
    "plt.plot(xx, models['r2_train'], label = 'r2_train')\n",
    "plt.plot(xx, models['r2_test'], label = 'r2_test')\n",
    "plt.legend()\n",
    "plt.title('R2-dla modeli')\n",
    "plt.xlabel('Modele')\n",
    "plt.ylabel('R2, %')\n",
    "plt.xticks(xx, rotation='vertical')\n",
    "plt.savefig('graph.png')\n",
    "plt.show()"
   ],
   "id": "725ff5caa8ebbb69",
   "outputs": [],
   "execution_count": null
  },
  {
   "metadata": {
    "jupyter": {
     "is_executing": true
    }
   },
   "cell_type": "code",
   "source": [
    "plt.figure(figsize=[25,6])\n",
    "xx = models['Model']\n",
    "plt.tick_params(labelsize=14)\n",
    "plt.plot(xx, models['d_train'], label = 'd_train')\n",
    "plt.plot(xx, models['d_test'], label = 'd_test')\n",
    "plt.legend()\n",
    "plt.title('Relative error dla modeli')\n",
    "plt.xlabel('Modele')\n",
    "plt.ylabel('Relative error, %')\n",
    "plt.xticks(xx, rotation='vertical')\n",
    "plt.savefig('graph.png')\n",
    "plt.show()"
   ],
   "id": "b5e0116a05b73425",
   "outputs": [],
   "execution_count": null
  },
  {
   "metadata": {
    "jupyter": {
     "is_executing": true
    }
   },
   "cell_type": "code",
   "source": [
    "plt.figure(figsize=[25,6])\n",
    "xx = models['Model']\n",
    "plt.tick_params(labelsize=14)\n",
    "plt.plot(xx, models['rmse_train'], label = 'rmse_train')\n",
    "plt.plot(xx, models['rmse_test'], label = 'rmse_test')\n",
    "plt.legend()\n",
    "plt.title('RMSE dla modeli')\n",
    "plt.xlabel('Modele')\n",
    "plt.ylabel('RMSE, %')\n",
    "plt.xticks(xx, rotation='vertical')\n",
    "plt.savefig('graph.png')\n",
    "plt.show()"
   ],
   "id": "a8c4d4479b8d89bb",
   "outputs": [],
   "execution_count": null
  },
  {
   "metadata": {
    "jupyter": {
     "is_executing": true
    }
   },
   "cell_type": "code",
   "source": "",
   "id": "47144798606312d7",
   "outputs": [],
   "execution_count": null
  }
 ],
 "metadata": {
  "kernelspec": {
   "display_name": "Python 3",
   "language": "python",
   "name": "python3"
  },
  "language_info": {
   "codemirror_mode": {
    "name": "ipython",
    "version": 2
   },
   "file_extension": ".py",
   "mimetype": "text/x-python",
   "name": "python",
   "nbconvert_exporter": "python",
   "pygments_lexer": "ipython2",
   "version": "2.7.6"
  }
 },
 "nbformat": 4,
 "nbformat_minor": 5
}
